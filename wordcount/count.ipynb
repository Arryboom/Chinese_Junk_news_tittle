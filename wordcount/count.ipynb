{
 "cells": [
  {
   "cell_type": "code",
   "execution_count": 1,
   "metadata": {},
   "outputs": [],
   "source": [
    "import pymysql"
   ]
  },
  {
   "cell_type": "code",
   "execution_count": 2,
   "metadata": {},
   "outputs": [],
   "source": [
    "conn=pymysql.connect(\n",
    "    host='127.0.0.1',\n",
    "    port=3306,\n",
    "    user='root',\n",
    "    password='password',\n",
    "    db='junksdb',\n",
    "    charset='utf8'\n",
    ")"
   ]
  },
  {
   "cell_type": "code",
   "execution_count": 3,
   "metadata": {},
   "outputs": [],
   "source": [
    "cursor=conn.cursor()"
   ]
  },
  {
   "cell_type": "code",
   "execution_count": 4,
   "metadata": {},
   "outputs": [],
   "source": [
    "sql='select * from junk'\n",
    "rows=cursor.execute(sql)"
   ]
  },
  {
   "cell_type": "code",
   "execution_count": 5,
   "metadata": {},
   "outputs": [
    {
     "name": "stdout",
     "output_type": "stream",
     "text": [
      "((1, '春晚第五次联排:郭冬临刘涛小品被毙 周杰伦全新演绎《告白气球》', 'mbaidu', 'root', 'mbaidu', datetime.datetime(2018, 2, 12, 17, 36, 55)), (2, '伦敦免税店被指区别对待中国人：外国人花79英镑领券 中国人须1千', 'mbaidu', 'root', 'mbaidu', datetime.datetime(2018, 2, 12, 17, 36, 55)), (3, '流感下的北京中年：岳父从开窗着凉的小感冒到去世，只有29天', 'mbaidu', 'root', 'mbaidu', datetime.datetime(2018, 2, 12, 17, 36, 55)), (4, '包工头公公为儿媳装的新房，看到第二张图尴尬癌都要犯了！ ', 'mbaidu', 'root', 'mbaidu', datetime.datetime(2018, 2, 12, 17, 36, 55)), (5, '“银行行长灭门案”作案细节:疑犯杀警抢枪 并扼颈刺杀14岁少女', 'mbaidu', 'root', 'mbaidu', datetime.datetime(2018, 2, 12, 17, 36, 55)), (6, '英拉现身北京板栗摊？这一年她还去了这些地方', 'mbaidu', 'root', 'mbaidu', datetime.datetime(2018, 2, 12, 17, 36, 55)), (7, '大学女教师频遭15岁儿子殴打 在派出所里跪求儿子', 'mbaidu', 'root', 'mbaidu', datetime.datetime(2018, 2, 12, 17, 37, 4)), (8, '“亿元贪官”王保安终落马：画个圈一套豪宅就到手', 'mbaidu', 'root', 'mbaidu', datetime.datetime(2018, 2, 12, 17, 37, 4)), (9, '玄松月登台献唱 金永南听朝韩歌手合唱落泪', 'mbaidu', 'root', 'mbaidu', datetime.datetime(2018, 2, 12, 17, 37, 4)), (10, '山东春节气温飙至29℃？朋友圈炸锅！中央气象台紧急回应', 'mbaidu', 'root', 'mbaidu', datetime.datetime(2018, 2, 12, 17, 37, 4)), (11, '杨元庆救不了联想，这条咸鱼还能翻身吗？', 'mbaidu', 'root', 'mbaidu', datetime.datetime(2018, 2, 12, 17, 37, 4)), (12, '叶檀：2018年 小心削减中产财富的两把刀', 'mbaidu', 'root', 'mbaidu', datetime.datetime(2018, 2, 12, 17, 37, 4)), (13, '一组照片看母爱的伟大，看完只剩眼泪', 'mbaidu', 'root', 'mbaidu', datetime.datetime(2018, 2, 12, 17, 37, 4)), (14, '北京西单发生恶性案件 这两人的\"逆行\"刷爆朋友圈', 'mbaidu', 'root', 'mbaidu', datetime.datetime(2018, 2, 12, 17, 37, 4)), (15, '爸爸姓“危”，不肯让孩子随自己姓，爷爷取完名，全家拍手鼓掌', 'mbaidu', 'root', 'mbaidu', datetime.datetime(2018, 2, 12, 17, 37, 4)), (16, '西安正式成为全国第9个国家中心城市 意味着什么?', 'mbaidu', 'root', 'mbaidu', datetime.datetime(2018, 2, 12, 17, 37, 4)), (17, '以色列遭最惨重打击！多架战机被击落 谁出手这么狠？', 'mbaidu', 'root', 'mbaidu', datetime.datetime(2018, 2, 12, 17, 37, 4)), (18, '农村一口百年老井，水被抽干后，露出一窝鱼', 'mbaidu', 'root', 'mbaidu', datetime.datetime(2018, 2, 12, 17, 37, 4)), (19, 'MC天佑全网禁播，多家平台连夜开会', 'mbaidu', 'root', 'mbaidu', datetime.datetime(2018, 2, 12, 17, 37, 18)), (20, '美将中国列为对手 菲媒喊话美国：你还在嚣张什么', 'mbaidu', 'root', 'mbaidu', datetime.datetime(2018, 2, 12, 17, 37, 18)), (21, 'A股暴跌证监会沉默 股民集中留言美国驻华使馆官微', 'mbaidu', 'root', 'mbaidu', datetime.datetime(2018, 2, 12, 17, 37, 18)), (22, '92岁老奶奶给纳达尔写信 世界第一深情致谢（图）', 'mbaidu', 'root', 'mbaidu', datetime.datetime(2018, 2, 12, 17, 37, 18)), (23, '春节各地高速迎大批车流 南京高速公路现“钢铁长龙”', 'mbaidu', 'root', 'mbaidu', datetime.datetime(2018, 2, 12, 17, 37, 18)), (24, '他本为罪犯，潜逃数年变成大明星，后因为太红暴露终落法网！', 'mbaidu', 'root', 'mbaidu', datetime.datetime(2018, 2, 12, 17, 37, 19)), (25, '男星女装扮相 ，陆毅最唯美，而他完全就是个女人！', 'mbaidu', 'root', 'mbaidu', datetime.datetime(2018, 2, 12, 17, 37, 19)), (26, '实拍：街头的乌克兰美女，最后两张让人惊艳', 'mbaidu', 'root', 'mbaidu', datetime.datetime(2018, 2, 12, 17, 37, 19)), (27, 'MC天佑据称被全网封杀；优酷推出“儿童模式”；域名转图片发朋友圈一律封杀 | 猬报', 'mbaidu', 'root', 'mbaidu', datetime.datetime(2018, 2, 12, 17, 37, 19)), (28, '女子是真正感受到了，什么叫祸从天降，监控拍下这可怕一幕！', 'mbaidu', 'root', 'mbaidu', datetime.datetime(2018, 2, 12, 17, 37, 19)), (29, '这才是有实力的民间歌手，一首歌唱的太好听太醉人了', 'mbaidu', 'root', 'mbaidu', datetime.datetime(2018, 2, 12, 17, 37, 19)), (30, '哪些现役球员能够跻身当今足坛大力远射王的前5名？', 'mbaidu', 'root', 'mbaidu', datetime.datetime(2018, 2, 12, 17, 37, 19)), (31, '《流感下的北京中年》，读后10感！', 'mbaidu', 'root', 'mbaidu', datetime.datetime(2018, 2, 12, 17, 38)), (32, '男子入户抢劫连杀一家五口灭门 一审被判处死刑', 'mbaidu', 'root', 'mbaidu', datetime.datetime(2018, 2, 12, 17, 38)), (33, '花莲地震台当局满世界感谢了一圈 却只字不提大陆', 'mbaidu', 'root', 'mbaidu', datetime.datetime(2018, 2, 12, 17, 38)), (34, '沈梦辰艺术写真', 'mbaidu', 'root', 'mbaidu', datetime.datetime(2018, 2, 12, 17, 38)), (35, '小伙这是怎么了？看完就明白了，真的是欠揍！', 'mbaidu', 'root', 'mbaidu', datetime.datetime(2018, 2, 12, 17, 38)), (36, '不敢小看早餐摊！2万村民靠炸油条手艺 一年挣回9个亿', 'mbaidu', 'root', 'mbaidu', datetime.datetime(2018, 2, 12, 17, 38)), (37, '江湖再无马政委！马布里正式宣布退役', 'mbaidu', 'root', 'mbaidu', datetime.datetime(2018, 2, 12, 17, 38)), (38, '上海旌逸集团有限公司实际控制人孔某涉嫌违法犯罪向公安部门自首', 'mbaidu', 'root', 'mbaidu', datetime.datetime(2018, 2, 12, 17, 38)), (39, '厨师高手，十年练就的刀功，同行看了都佩服', 'mbaidu', 'root', 'mbaidu', datetime.datetime(2018, 2, 12, 17, 38)), (40, '银行理财产品数以万计，如何挑到一只靠谱的？', 'mbaidu', 'root', 'mbaidu', datetime.datetime(2018, 2, 12, 17, 38)), (41, '荣耀精彩视频：牛魔的神级操作，你们根本学不来', 'mbaidu', 'root', 'mbaidu', datetime.datetime(2018, 2, 12, 17, 38)), (42, '女子年会喝醉逛街撒酒疯 脱鞋猛砸跑车或赔上万元', 'mbaidu', 'root', 'mbaidu', datetime.datetime(2018, 2, 12, 17, 38)), (43, '中国人得多花钱？希斯罗机场官方推特道歉 承诺调查改正', 'mbaidu', 'root', 'mbaidu', datetime.datetime(2018, 2, 12, 17, 38, 21)), (44, '西安一家五口被杀案今日宣判 被告人被判死刑', 'mbaidu', 'root', 'mbaidu', datetime.datetime(2018, 2, 12, 17, 38, 21)), (45, '小伙在斜坡嘚瑟，接下来发生的一幕，让我看的目瞪口呆！', 'mbaidu', 'root', 'mbaidu', datetime.datetime(2018, 2, 12, 17, 38, 21)), (46, '劳动人民有智慧，这样干活太有才了', 'mbaidu', 'root', 'mbaidu', datetime.datetime(2018, 2, 12, 17, 38, 21)), (47, '真正的公主是什么样的，日本公主看瞎了', 'mbaidu', 'root', 'mbaidu', datetime.datetime(2018, 2, 12, 17, 38, 21)), (48, '十张图片告诉你，地球可以冷到什么程度！', 'mbaidu', 'root', 'mbaidu', datetime.datetime(2018, 2, 12, 17, 38, 21)), (49, '世界十大美食国度都是哪些国家呢？', 'mbaidu', 'root', 'mbaidu', datetime.datetime(2018, 2, 12, 17, 38, 21)), (50, '“灾难”发生前瞬间，每一张都让人笑得肚子疼', 'mbaidu', 'root', 'mbaidu', datetime.datetime(2018, 2, 12, 17, 38, 21)), (51, '为条狗杀害一对夫妻并致被害人女儿坠亡 凶手昨伏法', 'mbaidu', 'root', 'mbaidu', datetime.datetime(2018, 2, 12, 17, 38, 21)), (52, '俄客机坠毁机上71人全部遇难 俄展开刑事调查', 'mbaidu', 'root', 'mbaidu', datetime.datetime(2018, 2, 12, 17, 38, 21)), (53, '俄罗斯载71人飞机坠毁现场 雪原上散落飞机残骸', 'mbaidu', 'root', 'mbaidu', datetime.datetime(2018, 2, 12, 17, 38, 22)), (54, '中央纪委网站推出答题游戏 教你预防“节日腐败”', 'mbaidu', 'root', 'mbaidu', datetime.datetime(2018, 2, 12, 17, 38, 22)), (55, '朝鲜艺术团结束冬奥演出 由陆路返回朝鲜', 'mbaidu', 'root', 'mbaidu', datetime.datetime(2018, 2, 12, 17, 38, 34)), (56, '吉林省辽源市政协主席张炜涉嫌严重违纪违法被审查', 'mbaidu', 'root', 'mbaidu', datetime.datetime(2018, 2, 12, 17, 38, 34)), (57, '骑士22分大胜绿军取3连胜，灯泡合砍52分火箭8连胜，雷霆大胜灰熊', 'mbaidu', 'root', 'mbaidu', datetime.datetime(2018, 2, 12, 17, 38, 34)), (58, '两男子想吃野味毒死260只野生鸟类 迫于压力自首', 'mbaidu', 'root', 'mbaidu', datetime.datetime(2018, 2, 12, 17, 38, 34)), (59, '还记得曾经跪在亡妻坟前，感动无数人的那个军人吗？如今已是政委', 'mbaidu', 'root', 'mbaidu', datetime.datetime(2018, 2, 12, 17, 38, 34)), (60, '直击：各国领导人的夫人，印度的看起来最可怜，安倍和妻子无后', 'mbaidu', 'root', 'mbaidu', datetime.datetime(2018, 2, 12, 17, 38, 34)), (61, '浙江湖州原“明星村支书”自杀 留遗书对村民致歉', 'mbaidu', 'root', 'mbaidu', datetime.datetime(2018, 2, 12, 17, 38, 34)), (62, '开车遇到这种人，理都别理，直接开走！', 'mbaidu', 'root', 'mbaidu', datetime.datetime(2018, 2, 12, 17, 38, 34)), (63, '德国柏林现仿真麦当娜和卡戴珊，臀围比本尊要大出一半多', 'mbaidu', 'root', 'mbaidu', datetime.datetime(2018, 2, 12, 17, 38, 34)), (64, '男友这样恶搞女友，被发现后女友这么做！', 'mbaidu', 'root', 'mbaidu', datetime.datetime(2018, 2, 12, 17, 38, 34)), (65, '曼联0-1落后曼城16分 两大腿互传射利物浦2-0 巴萨遭两连平', 'mbaidu', 'root', 'mbaidu', datetime.datetime(2018, 2, 12, 17, 38, 34)), (66, '天下武功唯快不破，看看大妈这手速，换做是你能坚持几秒钟？', 'mbaidu', 'root', 'mbaidu', datetime.datetime(2018, 2, 12, 17, 38, 34)), (67, '朴槿惠又被韩国人封“公主” 这次是因她的“黑历史”', 'mbaidu', 'root', 'mbaidu', datetime.datetime(2018, 2, 12, 17, 38, 47)), (68, '俄男子生日躲过坠毁航班 称已是第3次\"奇迹生还\"', 'mbaidu', 'root', 'mbaidu', datetime.datetime(2018, 2, 12, 17, 38, 47)), (69, '朝鲜代表团结束访韩 韩朝关系破冰回暖', 'mbaidu', 'root', 'mbaidu', datetime.datetime(2018, 2, 12, 17, 38, 47)), (70, '爷爷奶奶爸爸妈妈选哪一个，这结果还是出乎意料！', 'mbaidu', 'root', 'mbaidu', datetime.datetime(2018, 2, 12, 17, 38, 47)), (71, '换人如换刀！骑士新援发威大胜绿衫军 詹皇24分三节打卡', 'mbaidu', 'root', 'mbaidu', datetime.datetime(2018, 2, 12, 17, 38, 47)), (72, '从外面看破石头破瓦，一进去立马吃惊，极简豪宅太舒服了！', 'mbaidu', 'root', 'mbaidu', datetime.datetime(2018, 2, 12, 17, 38, 47)), (73, '春运泡面已过时，这个才是新宠儿，快来看看认识不', 'mbaidu', 'root', 'mbaidu', datetime.datetime(2018, 2, 12, 17, 38, 47)), (74, '汽车玻璃上结冰，用锤子凿', 'mbaidu', 'root', 'mbaidu', datetime.datetime(2018, 2, 12, 17, 38, 47)), (75, '多国驻华使馆提前微博拜年 只有美国使馆的经历最尬', 'mbaidu', 'root', 'mbaidu', datetime.datetime(2018, 2, 12, 17, 38, 47)), (76, '美女大口吃猪蹄，这么吃，太快过瘾了，真厉害', 'mbaidu', 'root', 'mbaidu', datetime.datetime(2018, 2, 12, 17, 38, 47)), (77, '我国地面机器人首次投入极地探路应用，系中科院自主研发', 'mbaidu', 'root', 'mbaidu', datetime.datetime(2018, 2, 12, 17, 38, 47)), (78, '这个行业 中国销售额创世界第一！有人却说是洪水猛兽', 'mbaidu', 'root', 'mbaidu', datetime.datetime(2018, 2, 12, 17, 38, 47)), (79, '招财宝理财收益是多少 招财宝存一万一年多少钱？', 'mbaidu', 'root', 'mbaidu', datetime.datetime(2018, 2, 12, 17, 39, 25)), (80, '新加坡捣毁跨国卖淫集团 逮捕12名涉案人员', 'mbaidu', 'root', 'mbaidu', datetime.datetime(2018, 2, 12, 17, 39, 25)), (81, '杜特尔特鼓励原住民杀叛军：每杀1人奖励2万', 'mbaidu', 'root', 'mbaidu', datetime.datetime(2018, 2, 12, 17, 39, 25)), (82, '都说越南媳妇容易跑，可我家这位怎么不跑呢？', 'mbaidu', 'root', 'mbaidu', datetime.datetime(2018, 2, 12, 17, 39, 25)), (83, '登炮52分诺天王休战 火箭力克独行侠豪取八连胜', 'mbaidu', 'root', 'mbaidu', datetime.datetime(2018, 2, 12, 17, 39, 25)), (84, '漂亮妹子蕾丝私房美好身材写真', 'mbaidu', 'root', 'mbaidu', datetime.datetime(2018, 2, 12, 17, 39, 25)), (85, '人物摄影：韩国气质模特，梦幻公主风唯美摄影！', 'mbaidu', 'root', 'mbaidu', datetime.datetime(2018, 2, 12, 17, 39, 25)), (86, '这工人开口就要三倍工资，看到他工作效率，顿时傻眼了！', 'mbaidu', 'root', 'mbaidu', datetime.datetime(2018, 2, 12, 17, 39, 25)), (87, '猴子被草丛婊蹲了一次，开始疯狂的报复，打的妲己喊爸爸！', 'mbaidu', 'root', 'mbaidu', datetime.datetime(2018, 2, 12, 17, 39, 25)), (88, '快递小哥春节一直“在线”吗？“不打烊”不等于“全配送” ！', 'mbaidu', 'root', 'mbaidu', datetime.datetime(2018, 2, 12, 17, 39, 25)), (89, '司法部部署离监探亲工作 全国1300名左右罪犯春节期……', 'mbaidu', 'root', 'mbaidu', datetime.datetime(2018, 2, 12, 17, 39, 26)), (90, '这是水壶里着火了吗？谁能解释一下，看了3遍都没看明白！', 'mbaidu', 'root', 'mbaidu', datetime.datetime(2018, 2, 12, 17, 39, 26)), (91, '外国人的脑洞不得不佩服，这些育婴神器看的国内父母直羡慕', 'mbaidu', 'root', 'mbaidu', datetime.datetime(2018, 2, 12, 17, 41, 17)), (92, '未来最赚钱的风口行业有哪些？5张手绘图带你看透这几大产业全景！（值得收藏反复读！）', 'mbaidu', 'root', 'mbaidu', datetime.datetime(2018, 2, 12, 17, 42, 24)), (93, '富豪们为啥偏爱娶超模们做老婆？原因就在这组图里', 'mbaidu', 'root', 'mbaidu', datetime.datetime(2018, 2, 12, 17, 42, 24)), (94, '全国政协原副主席罗豪才逝世', 'mbaidu', 'root', 'mbaidu', datetime.datetime(2018, 2, 12, 17, 43, 12)), (95, '印媒：马尔代夫为什么倒向了中国？为什么呢？', 'mbaidu', 'root', 'mbaidu', datetime.datetime(2018, 2, 12, 17, 43, 12)), (96, '牙膏放进白醋里太厉害了，解决千家万户的这些烦恼，赶紧在家试试', 'mbaidu', 'root', 'mbaidu', datetime.datetime(2018, 2, 12, 17, 43, 12)), (97, '《绝地求生：刺激战场》试玩：触屏操作流畅，画面高度还原，放心当LYB！', 'mbaidu', 'root', 'mbaidu', datetime.datetime(2018, 2, 12, 17, 43, 12)), (98, '现在印度的军事实力是什么水平？', 'mbaidu', 'root', 'mbaidu', datetime.datetime(2018, 2, 12, 17, 43, 12)), (99, '俄客机坠毁71人全部遇难 男子错过航班幸运避灾', 'mbaidu', 'root', 'mbaidu', datetime.datetime(2018, 2, 12, 17, 43, 13)), (100, '习近平给大凉山村民支招致富路', 'mbaidu', 'root', 'mbaidu', datetime.datetime(2018, 2, 12, 17, 43, 13)))\n"
     ]
    }
   ],
   "source": [
    "print (cursor.fetchmany(100))"
   ]
  },
  {
   "cell_type": "code",
   "execution_count": 6,
   "metadata": {},
   "outputs": [],
   "source": [
    "all_records={}"
   ]
  },
  {
   "cell_type": "code",
   "execution_count": 7,
   "metadata": {},
   "outputs": [],
   "source": [
    "import jieba"
   ]
  },
  {
   "cell_type": "code",
   "execution_count": 8,
   "metadata": {},
   "outputs": [
    {
     "name": "stdout",
     "output_type": "stream",
     "text": [
      "118319\n"
     ]
    }
   ],
   "source": [
    "alldbrec=cursor.fetchall()\n",
    "allset=[]\n",
    "for x in alldbrec:\n",
    "    allset.append(x[1])\n",
    "print(len(allset))"
   ]
  },
  {
   "cell_type": "code",
   "execution_count": 9,
   "metadata": {},
   "outputs": [
    {
     "name": "stderr",
     "output_type": "stream",
     "text": [
      "Building prefix dict from the default dictionary ...\n",
      "Loading model from cache z:\\tmpa\\jieba.cache\n",
      "Loading model cost 0.576 seconds.\n",
      "Prefix dict has been built successfully.\n"
     ]
    }
   ],
   "source": [
    "for z in allset:\n",
    "    tempdic=jieba.cut_for_search(z)\n",
    "    for y in tempdic:\n",
    "        if y not in all_records:\n",
    "            all_records[y]=1\n",
    "        else:\n",
    "            all_records[y]+=1"
   ]
  },
  {
   "cell_type": "code",
   "execution_count": 10,
   "metadata": {},
   "outputs": [],
   "source": [
    "import operator\n",
    "swd = sorted(all_records.items(),key=operator.itemgetter(1),reverse=True)"
   ]
  },
  {
   "cell_type": "code",
   "execution_count": 11,
   "metadata": {},
   "outputs": [],
   "source": [
    "#print (swd)"
   ]
  },
  {
   "cell_type": "code",
   "execution_count": 12,
   "metadata": {},
   "outputs": [
    {
     "name": "stdout",
     "output_type": "stream",
     "text": [
      "over！\n"
     ]
    }
   ],
   "source": [
    "with open(\"z:\\dict.dict\",\"w\",encoding=\"utf-8\") as f:\n",
    "    for dd in swd:\n",
    "        f.write(dd[0]+\"                \"+str(dd[1])+\"\\n\")\n",
    "print('over！')"
   ]
  },
  {
   "cell_type": "code",
   "execution_count": null,
   "metadata": {},
   "outputs": [],
   "source": []
  }
 ],
 "metadata": {
  "kernelspec": {
   "display_name": "Python 3",
   "language": "python",
   "name": "python3"
  },
  "language_info": {
   "codemirror_mode": {
    "name": "ipython",
    "version": 3
   },
   "file_extension": ".py",
   "mimetype": "text/x-python",
   "name": "python",
   "nbconvert_exporter": "python",
   "pygments_lexer": "ipython3",
   "version": "3.8.3"
  }
 },
 "nbformat": 4,
 "nbformat_minor": 4
}
